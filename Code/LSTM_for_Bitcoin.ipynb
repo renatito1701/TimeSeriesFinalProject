{
  "cells": [
    {
      "cell_type": "markdown",
      "source": [
        "## Setting up environment"
      ],
      "metadata": {
        "id": "2JttqZPgH7K0"
      },
      "id": "2JttqZPgH7K0"
    },
    {
      "cell_type": "code",
      "execution_count": null,
      "id": "852e7ccc",
      "metadata": {
        "id": "852e7ccc"
      },
      "outputs": [],
      "source": [
        "import sys\n",
        "import os\n",
        "import json\n",
        "import pandas as pd\n",
        "import optparse\n",
        "import numpy as np\n",
        "from sklearn.model_selection import train_test_split\n",
        "from sklearn.preprocessing import MinMaxScaler\n",
        "import matplotlib.pyplot as plt\n",
        "\n",
        "from keras.callbacks import TensorBoard\n",
        "from keras.models import Sequential, load_model\n",
        "from keras.layers import LSTM, Dense, Dropout, Bidirectional\n",
        "from keras.layers.embeddings import Embedding\n",
        "from keras.preprocessing import sequence\n",
        "from keras.preprocessing.text import Tokenizer\n",
        "from collections import OrderedDict\n",
        "from keras.preprocessing.sequence import TimeseriesGenerator\n",
        "import tensorflow as tf\n",
        "import tensorflow_addons as tfa"
      ]
    },
    {
      "cell_type": "markdown",
      "source": [
        "## Loading Data"
      ],
      "metadata": {
        "id": "XE9oesndIC6n"
      },
      "id": "XE9oesndIC6n"
    },
    {
      "cell_type": "code",
      "execution_count": null,
      "id": "d12fed0a",
      "metadata": {
        "id": "d12fed0a"
      },
      "outputs": [],
      "source": [
        "df = pd.read_csv('Bitcoin.csv')"
      ]
    },
    {
      "cell_type": "markdown",
      "source": [
        ""
      ],
      "metadata": {
        "id": "siMmRu6nICZk"
      },
      "id": "siMmRu6nICZk"
    },
    {
      "cell_type": "markdown",
      "source": [
        ""
      ],
      "metadata": {
        "id": "JSfWylYXPA-o"
      },
      "id": "JSfWylYXPA-o"
    },
    {
      "cell_type": "code",
      "execution_count": null,
      "id": "7409d43b",
      "metadata": {
        "colab": {
          "base_uri": "https://localhost:8080/",
          "height": 201
        },
        "id": "7409d43b",
        "outputId": "4218ae9c-d047-4c18-d946-61a3f4efc3fb"
      },
      "outputs": [
        {
          "output_type": "execute_result",
          "data": {
            "text/plain": [
              "         Date        Open        High         Low       Close      Volume  \\\n",
              "0  2014-09-17  465.864014  468.174011  452.421997  457.334015  21056800.0   \n",
              "1  2014-09-18  456.859985  456.859985  413.104004  424.440002  34483200.0   \n",
              "2  2014-09-19  424.102997  427.834992  384.532013  394.795990  37919700.0   \n",
              "3  2014-09-20  394.673004  423.295990  389.882996  408.903992  36863600.0   \n",
              "4  2014-09-21  408.084992  412.425995  393.181000  398.821014  26580100.0   \n",
              "\n",
              "  Currency  \n",
              "0      USD  \n",
              "1      USD  \n",
              "2      USD  \n",
              "3      USD  \n",
              "4      USD  "
            ],
            "text/html": [
              "\n",
              "  <div id=\"df-c18ddaab-8303-4958-8604-b024d5d48ec6\">\n",
              "    <div class=\"colab-df-container\">\n",
              "      <div>\n",
              "<style scoped>\n",
              "    .dataframe tbody tr th:only-of-type {\n",
              "        vertical-align: middle;\n",
              "    }\n",
              "\n",
              "    .dataframe tbody tr th {\n",
              "        vertical-align: top;\n",
              "    }\n",
              "\n",
              "    .dataframe thead th {\n",
              "        text-align: right;\n",
              "    }\n",
              "</style>\n",
              "<table border=\"1\" class=\"dataframe\">\n",
              "  <thead>\n",
              "    <tr style=\"text-align: right;\">\n",
              "      <th></th>\n",
              "      <th>Date</th>\n",
              "      <th>Open</th>\n",
              "      <th>High</th>\n",
              "      <th>Low</th>\n",
              "      <th>Close</th>\n",
              "      <th>Volume</th>\n",
              "      <th>Currency</th>\n",
              "    </tr>\n",
              "  </thead>\n",
              "  <tbody>\n",
              "    <tr>\n",
              "      <th>0</th>\n",
              "      <td>2014-09-17</td>\n",
              "      <td>465.864014</td>\n",
              "      <td>468.174011</td>\n",
              "      <td>452.421997</td>\n",
              "      <td>457.334015</td>\n",
              "      <td>21056800.0</td>\n",
              "      <td>USD</td>\n",
              "    </tr>\n",
              "    <tr>\n",
              "      <th>1</th>\n",
              "      <td>2014-09-18</td>\n",
              "      <td>456.859985</td>\n",
              "      <td>456.859985</td>\n",
              "      <td>413.104004</td>\n",
              "      <td>424.440002</td>\n",
              "      <td>34483200.0</td>\n",
              "      <td>USD</td>\n",
              "    </tr>\n",
              "    <tr>\n",
              "      <th>2</th>\n",
              "      <td>2014-09-19</td>\n",
              "      <td>424.102997</td>\n",
              "      <td>427.834992</td>\n",
              "      <td>384.532013</td>\n",
              "      <td>394.795990</td>\n",
              "      <td>37919700.0</td>\n",
              "      <td>USD</td>\n",
              "    </tr>\n",
              "    <tr>\n",
              "      <th>3</th>\n",
              "      <td>2014-09-20</td>\n",
              "      <td>394.673004</td>\n",
              "      <td>423.295990</td>\n",
              "      <td>389.882996</td>\n",
              "      <td>408.903992</td>\n",
              "      <td>36863600.0</td>\n",
              "      <td>USD</td>\n",
              "    </tr>\n",
              "    <tr>\n",
              "      <th>4</th>\n",
              "      <td>2014-09-21</td>\n",
              "      <td>408.084992</td>\n",
              "      <td>412.425995</td>\n",
              "      <td>393.181000</td>\n",
              "      <td>398.821014</td>\n",
              "      <td>26580100.0</td>\n",
              "      <td>USD</td>\n",
              "    </tr>\n",
              "  </tbody>\n",
              "</table>\n",
              "</div>\n",
              "      <button class=\"colab-df-convert\" onclick=\"convertToInteractive('df-c18ddaab-8303-4958-8604-b024d5d48ec6')\"\n",
              "              title=\"Convert this dataframe to an interactive table.\"\n",
              "              style=\"display:none;\">\n",
              "        \n",
              "  <svg xmlns=\"http://www.w3.org/2000/svg\" height=\"24px\"viewBox=\"0 0 24 24\"\n",
              "       width=\"24px\">\n",
              "    <path d=\"M0 0h24v24H0V0z\" fill=\"none\"/>\n",
              "    <path d=\"M18.56 5.44l.94 2.06.94-2.06 2.06-.94-2.06-.94-.94-2.06-.94 2.06-2.06.94zm-11 1L8.5 8.5l.94-2.06 2.06-.94-2.06-.94L8.5 2.5l-.94 2.06-2.06.94zm10 10l.94 2.06.94-2.06 2.06-.94-2.06-.94-.94-2.06-.94 2.06-2.06.94z\"/><path d=\"M17.41 7.96l-1.37-1.37c-.4-.4-.92-.59-1.43-.59-.52 0-1.04.2-1.43.59L10.3 9.45l-7.72 7.72c-.78.78-.78 2.05 0 2.83L4 21.41c.39.39.9.59 1.41.59.51 0 1.02-.2 1.41-.59l7.78-7.78 2.81-2.81c.8-.78.8-2.07 0-2.86zM5.41 20L4 18.59l7.72-7.72 1.47 1.35L5.41 20z\"/>\n",
              "  </svg>\n",
              "      </button>\n",
              "      \n",
              "  <style>\n",
              "    .colab-df-container {\n",
              "      display:flex;\n",
              "      flex-wrap:wrap;\n",
              "      gap: 12px;\n",
              "    }\n",
              "\n",
              "    .colab-df-convert {\n",
              "      background-color: #E8F0FE;\n",
              "      border: none;\n",
              "      border-radius: 50%;\n",
              "      cursor: pointer;\n",
              "      display: none;\n",
              "      fill: #1967D2;\n",
              "      height: 32px;\n",
              "      padding: 0 0 0 0;\n",
              "      width: 32px;\n",
              "    }\n",
              "\n",
              "    .colab-df-convert:hover {\n",
              "      background-color: #E2EBFA;\n",
              "      box-shadow: 0px 1px 2px rgba(60, 64, 67, 0.3), 0px 1px 3px 1px rgba(60, 64, 67, 0.15);\n",
              "      fill: #174EA6;\n",
              "    }\n",
              "\n",
              "    [theme=dark] .colab-df-convert {\n",
              "      background-color: #3B4455;\n",
              "      fill: #D2E3FC;\n",
              "    }\n",
              "\n",
              "    [theme=dark] .colab-df-convert:hover {\n",
              "      background-color: #434B5C;\n",
              "      box-shadow: 0px 1px 3px 1px rgba(0, 0, 0, 0.15);\n",
              "      filter: drop-shadow(0px 1px 2px rgba(0, 0, 0, 0.3));\n",
              "      fill: #FFFFFF;\n",
              "    }\n",
              "  </style>\n",
              "\n",
              "      <script>\n",
              "        const buttonEl =\n",
              "          document.querySelector('#df-c18ddaab-8303-4958-8604-b024d5d48ec6 button.colab-df-convert');\n",
              "        buttonEl.style.display =\n",
              "          google.colab.kernel.accessAllowed ? 'block' : 'none';\n",
              "\n",
              "        async function convertToInteractive(key) {\n",
              "          const element = document.querySelector('#df-c18ddaab-8303-4958-8604-b024d5d48ec6');\n",
              "          const dataTable =\n",
              "            await google.colab.kernel.invokeFunction('convertToInteractive',\n",
              "                                                     [key], {});\n",
              "          if (!dataTable) return;\n",
              "\n",
              "          const docLinkHtml = 'Like what you see? Visit the ' +\n",
              "            '<a target=\"_blank\" href=https://colab.research.google.com/notebooks/data_table.ipynb>data table notebook</a>'\n",
              "            + ' to learn more about interactive tables.';\n",
              "          element.innerHTML = '';\n",
              "          dataTable['output_type'] = 'display_data';\n",
              "          await google.colab.output.renderOutput(dataTable, element);\n",
              "          const docLink = document.createElement('div');\n",
              "          docLink.innerHTML = docLinkHtml;\n",
              "          element.appendChild(docLink);\n",
              "        }\n",
              "      </script>\n",
              "    </div>\n",
              "  </div>\n",
              "  "
            ]
          },
          "metadata": {},
          "execution_count": 6
        }
      ],
      "source": [
        "df.head(5)"
      ]
    },
    {
      "cell_type": "code",
      "execution_count": null,
      "id": "48c06480",
      "metadata": {
        "colab": {
          "base_uri": "https://localhost:8080/"
        },
        "id": "48c06480",
        "outputId": "25d24cdf-1339-47b4-ed3b-a7f054ad8cf5"
      },
      "outputs": [
        {
          "output_type": "stream",
          "name": "stdout",
          "text": [
            "<class 'pandas.core.frame.DataFrame'>\n",
            "RangeIndex: 2792 entries, 0 to 2791\n",
            "Data columns (total 7 columns):\n",
            " #   Column    Non-Null Count  Dtype  \n",
            "---  ------    --------------  -----  \n",
            " 0   Date      2792 non-null   object \n",
            " 1   Open      2792 non-null   float64\n",
            " 2   High      2792 non-null   float64\n",
            " 3   Low       2792 non-null   float64\n",
            " 4   Close     2792 non-null   float64\n",
            " 5   Volume    2792 non-null   float64\n",
            " 6   Currency  2792 non-null   object \n",
            "dtypes: float64(5), object(2)\n",
            "memory usage: 152.8+ KB\n"
          ]
        }
      ],
      "source": [
        "df.info()"
      ]
    },
    {
      "cell_type": "markdown",
      "source": [
        "## Feature Engineering"
      ],
      "metadata": {
        "id": "j91ym5nXIHs4"
      },
      "id": "j91ym5nXIHs4"
    },
    {
      "cell_type": "code",
      "execution_count": null,
      "id": "06769318",
      "metadata": {
        "id": "06769318"
      },
      "outputs": [],
      "source": [
        "df['Date']= pd.to_datetime(df['Date'])"
      ]
    },
    {
      "cell_type": "code",
      "source": [
        "df['change'] = (df.High - df.Low)\n",
        "\n",
        "df['Open-1'] = df.Open.shift(1)\n",
        "df['increase'] = (df['Close'] - df['Open']) >= 0"
      ],
      "metadata": {
        "id": "L2RnglVnG0Ye"
      },
      "id": "L2RnglVnG0Ye",
      "execution_count": null,
      "outputs": []
    },
    {
      "cell_type": "code",
      "source": [
        "# df['change'] = np.log(df['change'])\n",
        "# df['Open'] = np.log(df['Open'])"
      ],
      "metadata": {
        "id": "rQFCSj1v4RH2"
      },
      "id": "rQFCSj1v4RH2",
      "execution_count": null,
      "outputs": []
    },
    {
      "cell_type": "code",
      "execution_count": null,
      "id": "7470be24",
      "metadata": {
        "id": "7470be24"
      },
      "outputs": [],
      "source": [
        "df = df[(df['Date'] > '2017-05-07') & (df['Date'] <= '2022-04-30')]"
      ]
    },
    {
      "cell_type": "code",
      "source": [
        "df.head()"
      ],
      "metadata": {
        "colab": {
          "base_uri": "https://localhost:8080/",
          "height": 201
        },
        "id": "lTK35ZXB8Q4Z",
        "outputId": "6836e29a-5e2f-41bf-b252-18e237c0068c"
      },
      "id": "lTK35ZXB8Q4Z",
      "execution_count": null,
      "outputs": [
        {
          "output_type": "execute_result",
          "data": {
            "text/plain": [
              "          Date         Open         High          Low        Close  \\\n",
              "964 2017-05-08  1596.920044  1723.349976  1596.920044  1723.349976   \n",
              "965 2017-05-09  1723.890015  1833.489990  1716.300049  1755.359985   \n",
              "966 2017-05-10  1756.520020  1788.439941  1719.099976  1787.130005   \n",
              "967 2017-05-11  1780.369995  1873.930054  1755.349976  1848.569946   \n",
              "968 2017-05-12  1845.760010  1856.150024  1694.010010  1724.239990   \n",
              "\n",
              "           Volume Currency      change       Open-1  increase  \n",
              "964  1.340320e+09      USD  126.429932  1579.469971      True  \n",
              "965  1.167920e+09      USD  117.189941  1596.920044      True  \n",
              "966  9.157230e+08      USD   69.339965  1723.890015      True  \n",
              "967  7.994900e+08      USD  118.580078  1756.520020      True  \n",
              "968  7.409840e+08      USD  162.140014  1780.369995     False  "
            ],
            "text/html": [
              "\n",
              "  <div id=\"df-54afd537-f287-456d-bd11-c08b5e0e233d\">\n",
              "    <div class=\"colab-df-container\">\n",
              "      <div>\n",
              "<style scoped>\n",
              "    .dataframe tbody tr th:only-of-type {\n",
              "        vertical-align: middle;\n",
              "    }\n",
              "\n",
              "    .dataframe tbody tr th {\n",
              "        vertical-align: top;\n",
              "    }\n",
              "\n",
              "    .dataframe thead th {\n",
              "        text-align: right;\n",
              "    }\n",
              "</style>\n",
              "<table border=\"1\" class=\"dataframe\">\n",
              "  <thead>\n",
              "    <tr style=\"text-align: right;\">\n",
              "      <th></th>\n",
              "      <th>Date</th>\n",
              "      <th>Open</th>\n",
              "      <th>High</th>\n",
              "      <th>Low</th>\n",
              "      <th>Close</th>\n",
              "      <th>Volume</th>\n",
              "      <th>Currency</th>\n",
              "      <th>change</th>\n",
              "      <th>Open-1</th>\n",
              "      <th>increase</th>\n",
              "    </tr>\n",
              "  </thead>\n",
              "  <tbody>\n",
              "    <tr>\n",
              "      <th>964</th>\n",
              "      <td>2017-05-08</td>\n",
              "      <td>1596.920044</td>\n",
              "      <td>1723.349976</td>\n",
              "      <td>1596.920044</td>\n",
              "      <td>1723.349976</td>\n",
              "      <td>1.340320e+09</td>\n",
              "      <td>USD</td>\n",
              "      <td>126.429932</td>\n",
              "      <td>1579.469971</td>\n",
              "      <td>True</td>\n",
              "    </tr>\n",
              "    <tr>\n",
              "      <th>965</th>\n",
              "      <td>2017-05-09</td>\n",
              "      <td>1723.890015</td>\n",
              "      <td>1833.489990</td>\n",
              "      <td>1716.300049</td>\n",
              "      <td>1755.359985</td>\n",
              "      <td>1.167920e+09</td>\n",
              "      <td>USD</td>\n",
              "      <td>117.189941</td>\n",
              "      <td>1596.920044</td>\n",
              "      <td>True</td>\n",
              "    </tr>\n",
              "    <tr>\n",
              "      <th>966</th>\n",
              "      <td>2017-05-10</td>\n",
              "      <td>1756.520020</td>\n",
              "      <td>1788.439941</td>\n",
              "      <td>1719.099976</td>\n",
              "      <td>1787.130005</td>\n",
              "      <td>9.157230e+08</td>\n",
              "      <td>USD</td>\n",
              "      <td>69.339965</td>\n",
              "      <td>1723.890015</td>\n",
              "      <td>True</td>\n",
              "    </tr>\n",
              "    <tr>\n",
              "      <th>967</th>\n",
              "      <td>2017-05-11</td>\n",
              "      <td>1780.369995</td>\n",
              "      <td>1873.930054</td>\n",
              "      <td>1755.349976</td>\n",
              "      <td>1848.569946</td>\n",
              "      <td>7.994900e+08</td>\n",
              "      <td>USD</td>\n",
              "      <td>118.580078</td>\n",
              "      <td>1756.520020</td>\n",
              "      <td>True</td>\n",
              "    </tr>\n",
              "    <tr>\n",
              "      <th>968</th>\n",
              "      <td>2017-05-12</td>\n",
              "      <td>1845.760010</td>\n",
              "      <td>1856.150024</td>\n",
              "      <td>1694.010010</td>\n",
              "      <td>1724.239990</td>\n",
              "      <td>7.409840e+08</td>\n",
              "      <td>USD</td>\n",
              "      <td>162.140014</td>\n",
              "      <td>1780.369995</td>\n",
              "      <td>False</td>\n",
              "    </tr>\n",
              "  </tbody>\n",
              "</table>\n",
              "</div>\n",
              "      <button class=\"colab-df-convert\" onclick=\"convertToInteractive('df-54afd537-f287-456d-bd11-c08b5e0e233d')\"\n",
              "              title=\"Convert this dataframe to an interactive table.\"\n",
              "              style=\"display:none;\">\n",
              "        \n",
              "  <svg xmlns=\"http://www.w3.org/2000/svg\" height=\"24px\"viewBox=\"0 0 24 24\"\n",
              "       width=\"24px\">\n",
              "    <path d=\"M0 0h24v24H0V0z\" fill=\"none\"/>\n",
              "    <path d=\"M18.56 5.44l.94 2.06.94-2.06 2.06-.94-2.06-.94-.94-2.06-.94 2.06-2.06.94zm-11 1L8.5 8.5l.94-2.06 2.06-.94-2.06-.94L8.5 2.5l-.94 2.06-2.06.94zm10 10l.94 2.06.94-2.06 2.06-.94-2.06-.94-.94-2.06-.94 2.06-2.06.94z\"/><path d=\"M17.41 7.96l-1.37-1.37c-.4-.4-.92-.59-1.43-.59-.52 0-1.04.2-1.43.59L10.3 9.45l-7.72 7.72c-.78.78-.78 2.05 0 2.83L4 21.41c.39.39.9.59 1.41.59.51 0 1.02-.2 1.41-.59l7.78-7.78 2.81-2.81c.8-.78.8-2.07 0-2.86zM5.41 20L4 18.59l7.72-7.72 1.47 1.35L5.41 20z\"/>\n",
              "  </svg>\n",
              "      </button>\n",
              "      \n",
              "  <style>\n",
              "    .colab-df-container {\n",
              "      display:flex;\n",
              "      flex-wrap:wrap;\n",
              "      gap: 12px;\n",
              "    }\n",
              "\n",
              "    .colab-df-convert {\n",
              "      background-color: #E8F0FE;\n",
              "      border: none;\n",
              "      border-radius: 50%;\n",
              "      cursor: pointer;\n",
              "      display: none;\n",
              "      fill: #1967D2;\n",
              "      height: 32px;\n",
              "      padding: 0 0 0 0;\n",
              "      width: 32px;\n",
              "    }\n",
              "\n",
              "    .colab-df-convert:hover {\n",
              "      background-color: #E2EBFA;\n",
              "      box-shadow: 0px 1px 2px rgba(60, 64, 67, 0.3), 0px 1px 3px 1px rgba(60, 64, 67, 0.15);\n",
              "      fill: #174EA6;\n",
              "    }\n",
              "\n",
              "    [theme=dark] .colab-df-convert {\n",
              "      background-color: #3B4455;\n",
              "      fill: #D2E3FC;\n",
              "    }\n",
              "\n",
              "    [theme=dark] .colab-df-convert:hover {\n",
              "      background-color: #434B5C;\n",
              "      box-shadow: 0px 1px 3px 1px rgba(0, 0, 0, 0.15);\n",
              "      filter: drop-shadow(0px 1px 2px rgba(0, 0, 0, 0.3));\n",
              "      fill: #FFFFFF;\n",
              "    }\n",
              "  </style>\n",
              "\n",
              "      <script>\n",
              "        const buttonEl =\n",
              "          document.querySelector('#df-54afd537-f287-456d-bd11-c08b5e0e233d button.colab-df-convert');\n",
              "        buttonEl.style.display =\n",
              "          google.colab.kernel.accessAllowed ? 'block' : 'none';\n",
              "\n",
              "        async function convertToInteractive(key) {\n",
              "          const element = document.querySelector('#df-54afd537-f287-456d-bd11-c08b5e0e233d');\n",
              "          const dataTable =\n",
              "            await google.colab.kernel.invokeFunction('convertToInteractive',\n",
              "                                                     [key], {});\n",
              "          if (!dataTable) return;\n",
              "\n",
              "          const docLinkHtml = 'Like what you see? Visit the ' +\n",
              "            '<a target=\"_blank\" href=https://colab.research.google.com/notebooks/data_table.ipynb>data table notebook</a>'\n",
              "            + ' to learn more about interactive tables.';\n",
              "          element.innerHTML = '';\n",
              "          dataTable['output_type'] = 'display_data';\n",
              "          await google.colab.output.renderOutput(dataTable, element);\n",
              "          const docLink = document.createElement('div');\n",
              "          docLink.innerHTML = docLinkHtml;\n",
              "          element.appendChild(docLink);\n",
              "        }\n",
              "      </script>\n",
              "    </div>\n",
              "  </div>\n",
              "  "
            ]
          },
          "metadata": {},
          "execution_count": 13
        }
      ]
    },
    {
      "cell_type": "code",
      "source": [
        "df.shape"
      ],
      "metadata": {
        "colab": {
          "base_uri": "https://localhost:8080/"
        },
        "id": "m21r1dwHN0LE",
        "outputId": "ff9cec76-b582-41c9-a76b-9ae0100fb69c"
      },
      "id": "m21r1dwHN0LE",
      "execution_count": null,
      "outputs": [
        {
          "output_type": "execute_result",
          "data": {
            "text/plain": [
              "(1819, 10)"
            ]
          },
          "metadata": {},
          "execution_count": 14
        }
      ]
    },
    {
      "cell_type": "code",
      "execution_count": null,
      "id": "58fdb829",
      "metadata": {
        "id": "58fdb829"
      },
      "outputs": [],
      "source": [
        "df.reset_index(inplace= True)"
      ]
    },
    {
      "cell_type": "code",
      "execution_count": null,
      "id": "4c4168cf",
      "metadata": {
        "id": "4c4168cf"
      },
      "outputs": [],
      "source": [
        "scaler = MinMaxScaler()"
      ]
    },
    {
      "cell_type": "markdown",
      "source": [
        "## Train-Test Split"
      ],
      "metadata": {
        "id": "xGAXO3-LINkr"
      },
      "id": "xGAXO3-LINkr"
    },
    {
      "cell_type": "code",
      "execution_count": null,
      "id": "052a60c7",
      "metadata": {
        "id": "052a60c7"
      },
      "outputs": [],
      "source": [
        "data_training = df[df['Date'] < '2022-04-01'].copy()\n",
        "data_test = df[df['Date'] >= '2022-04-01'].copy()"
      ]
    },
    {
      "cell_type": "code",
      "execution_count": null,
      "id": "b67e7076",
      "metadata": {
        "colab": {
          "base_uri": "https://localhost:8080/",
          "height": 201
        },
        "id": "b67e7076",
        "outputId": "8b86b9ac-5ab8-48e8-f001-c53127fdc949"
      },
      "outputs": [
        {
          "output_type": "execute_result",
          "data": {
            "text/plain": [
              "   index       Date         Open         High          Low        Close  \\\n",
              "0    964 2017-05-08  1596.920044  1723.349976  1596.920044  1723.349976   \n",
              "1    965 2017-05-09  1723.890015  1833.489990  1716.300049  1755.359985   \n",
              "2    966 2017-05-10  1756.520020  1788.439941  1719.099976  1787.130005   \n",
              "3    967 2017-05-11  1780.369995  1873.930054  1755.349976  1848.569946   \n",
              "4    968 2017-05-12  1845.760010  1856.150024  1694.010010  1724.239990   \n",
              "\n",
              "         Volume Currency      change       Open-1  increase  \n",
              "0  1.340320e+09      USD  126.429932  1579.469971      True  \n",
              "1  1.167920e+09      USD  117.189941  1596.920044      True  \n",
              "2  9.157230e+08      USD   69.339965  1723.890015      True  \n",
              "3  7.994900e+08      USD  118.580078  1756.520020      True  \n",
              "4  7.409840e+08      USD  162.140014  1780.369995     False  "
            ],
            "text/html": [
              "\n",
              "  <div id=\"df-2e4ee3fd-a185-4405-bed7-b695cc83c30d\">\n",
              "    <div class=\"colab-df-container\">\n",
              "      <div>\n",
              "<style scoped>\n",
              "    .dataframe tbody tr th:only-of-type {\n",
              "        vertical-align: middle;\n",
              "    }\n",
              "\n",
              "    .dataframe tbody tr th {\n",
              "        vertical-align: top;\n",
              "    }\n",
              "\n",
              "    .dataframe thead th {\n",
              "        text-align: right;\n",
              "    }\n",
              "</style>\n",
              "<table border=\"1\" class=\"dataframe\">\n",
              "  <thead>\n",
              "    <tr style=\"text-align: right;\">\n",
              "      <th></th>\n",
              "      <th>index</th>\n",
              "      <th>Date</th>\n",
              "      <th>Open</th>\n",
              "      <th>High</th>\n",
              "      <th>Low</th>\n",
              "      <th>Close</th>\n",
              "      <th>Volume</th>\n",
              "      <th>Currency</th>\n",
              "      <th>change</th>\n",
              "      <th>Open-1</th>\n",
              "      <th>increase</th>\n",
              "    </tr>\n",
              "  </thead>\n",
              "  <tbody>\n",
              "    <tr>\n",
              "      <th>0</th>\n",
              "      <td>964</td>\n",
              "      <td>2017-05-08</td>\n",
              "      <td>1596.920044</td>\n",
              "      <td>1723.349976</td>\n",
              "      <td>1596.920044</td>\n",
              "      <td>1723.349976</td>\n",
              "      <td>1.340320e+09</td>\n",
              "      <td>USD</td>\n",
              "      <td>126.429932</td>\n",
              "      <td>1579.469971</td>\n",
              "      <td>True</td>\n",
              "    </tr>\n",
              "    <tr>\n",
              "      <th>1</th>\n",
              "      <td>965</td>\n",
              "      <td>2017-05-09</td>\n",
              "      <td>1723.890015</td>\n",
              "      <td>1833.489990</td>\n",
              "      <td>1716.300049</td>\n",
              "      <td>1755.359985</td>\n",
              "      <td>1.167920e+09</td>\n",
              "      <td>USD</td>\n",
              "      <td>117.189941</td>\n",
              "      <td>1596.920044</td>\n",
              "      <td>True</td>\n",
              "    </tr>\n",
              "    <tr>\n",
              "      <th>2</th>\n",
              "      <td>966</td>\n",
              "      <td>2017-05-10</td>\n",
              "      <td>1756.520020</td>\n",
              "      <td>1788.439941</td>\n",
              "      <td>1719.099976</td>\n",
              "      <td>1787.130005</td>\n",
              "      <td>9.157230e+08</td>\n",
              "      <td>USD</td>\n",
              "      <td>69.339965</td>\n",
              "      <td>1723.890015</td>\n",
              "      <td>True</td>\n",
              "    </tr>\n",
              "    <tr>\n",
              "      <th>3</th>\n",
              "      <td>967</td>\n",
              "      <td>2017-05-11</td>\n",
              "      <td>1780.369995</td>\n",
              "      <td>1873.930054</td>\n",
              "      <td>1755.349976</td>\n",
              "      <td>1848.569946</td>\n",
              "      <td>7.994900e+08</td>\n",
              "      <td>USD</td>\n",
              "      <td>118.580078</td>\n",
              "      <td>1756.520020</td>\n",
              "      <td>True</td>\n",
              "    </tr>\n",
              "    <tr>\n",
              "      <th>4</th>\n",
              "      <td>968</td>\n",
              "      <td>2017-05-12</td>\n",
              "      <td>1845.760010</td>\n",
              "      <td>1856.150024</td>\n",
              "      <td>1694.010010</td>\n",
              "      <td>1724.239990</td>\n",
              "      <td>7.409840e+08</td>\n",
              "      <td>USD</td>\n",
              "      <td>162.140014</td>\n",
              "      <td>1780.369995</td>\n",
              "      <td>False</td>\n",
              "    </tr>\n",
              "  </tbody>\n",
              "</table>\n",
              "</div>\n",
              "      <button class=\"colab-df-convert\" onclick=\"convertToInteractive('df-2e4ee3fd-a185-4405-bed7-b695cc83c30d')\"\n",
              "              title=\"Convert this dataframe to an interactive table.\"\n",
              "              style=\"display:none;\">\n",
              "        \n",
              "  <svg xmlns=\"http://www.w3.org/2000/svg\" height=\"24px\"viewBox=\"0 0 24 24\"\n",
              "       width=\"24px\">\n",
              "    <path d=\"M0 0h24v24H0V0z\" fill=\"none\"/>\n",
              "    <path d=\"M18.56 5.44l.94 2.06.94-2.06 2.06-.94-2.06-.94-.94-2.06-.94 2.06-2.06.94zm-11 1L8.5 8.5l.94-2.06 2.06-.94-2.06-.94L8.5 2.5l-.94 2.06-2.06.94zm10 10l.94 2.06.94-2.06 2.06-.94-2.06-.94-.94-2.06-.94 2.06-2.06.94z\"/><path d=\"M17.41 7.96l-1.37-1.37c-.4-.4-.92-.59-1.43-.59-.52 0-1.04.2-1.43.59L10.3 9.45l-7.72 7.72c-.78.78-.78 2.05 0 2.83L4 21.41c.39.39.9.59 1.41.59.51 0 1.02-.2 1.41-.59l7.78-7.78 2.81-2.81c.8-.78.8-2.07 0-2.86zM5.41 20L4 18.59l7.72-7.72 1.47 1.35L5.41 20z\"/>\n",
              "  </svg>\n",
              "      </button>\n",
              "      \n",
              "  <style>\n",
              "    .colab-df-container {\n",
              "      display:flex;\n",
              "      flex-wrap:wrap;\n",
              "      gap: 12px;\n",
              "    }\n",
              "\n",
              "    .colab-df-convert {\n",
              "      background-color: #E8F0FE;\n",
              "      border: none;\n",
              "      border-radius: 50%;\n",
              "      cursor: pointer;\n",
              "      display: none;\n",
              "      fill: #1967D2;\n",
              "      height: 32px;\n",
              "      padding: 0 0 0 0;\n",
              "      width: 32px;\n",
              "    }\n",
              "\n",
              "    .colab-df-convert:hover {\n",
              "      background-color: #E2EBFA;\n",
              "      box-shadow: 0px 1px 2px rgba(60, 64, 67, 0.3), 0px 1px 3px 1px rgba(60, 64, 67, 0.15);\n",
              "      fill: #174EA6;\n",
              "    }\n",
              "\n",
              "    [theme=dark] .colab-df-convert {\n",
              "      background-color: #3B4455;\n",
              "      fill: #D2E3FC;\n",
              "    }\n",
              "\n",
              "    [theme=dark] .colab-df-convert:hover {\n",
              "      background-color: #434B5C;\n",
              "      box-shadow: 0px 1px 3px 1px rgba(0, 0, 0, 0.15);\n",
              "      filter: drop-shadow(0px 1px 2px rgba(0, 0, 0, 0.3));\n",
              "      fill: #FFFFFF;\n",
              "    }\n",
              "  </style>\n",
              "\n",
              "      <script>\n",
              "        const buttonEl =\n",
              "          document.querySelector('#df-2e4ee3fd-a185-4405-bed7-b695cc83c30d button.colab-df-convert');\n",
              "        buttonEl.style.display =\n",
              "          google.colab.kernel.accessAllowed ? 'block' : 'none';\n",
              "\n",
              "        async function convertToInteractive(key) {\n",
              "          const element = document.querySelector('#df-2e4ee3fd-a185-4405-bed7-b695cc83c30d');\n",
              "          const dataTable =\n",
              "            await google.colab.kernel.invokeFunction('convertToInteractive',\n",
              "                                                     [key], {});\n",
              "          if (!dataTable) return;\n",
              "\n",
              "          const docLinkHtml = 'Like what you see? Visit the ' +\n",
              "            '<a target=\"_blank\" href=https://colab.research.google.com/notebooks/data_table.ipynb>data table notebook</a>'\n",
              "            + ' to learn more about interactive tables.';\n",
              "          element.innerHTML = '';\n",
              "          dataTable['output_type'] = 'display_data';\n",
              "          await google.colab.output.renderOutput(dataTable, element);\n",
              "          const docLink = document.createElement('div');\n",
              "          docLink.innerHTML = docLinkHtml;\n",
              "          element.appendChild(docLink);\n",
              "        }\n",
              "      </script>\n",
              "    </div>\n",
              "  </div>\n",
              "  "
            ]
          },
          "metadata": {},
          "execution_count": 18
        }
      ],
      "source": [
        "data_training.head()"
      ]
    },
    {
      "cell_type": "code",
      "execution_count": null,
      "id": "3d50b785",
      "metadata": {
        "id": "3d50b785"
      },
      "outputs": [],
      "source": [
        "training_data = data_training.drop(['Date', 'index', 'Close', 'Currency'], axis = 1)"
      ]
    },
    {
      "cell_type": "code",
      "source": [
        "training_data.head()"
      ],
      "metadata": {
        "colab": {
          "base_uri": "https://localhost:8080/",
          "height": 201
        },
        "id": "6s2Fs1GY7Y8J",
        "outputId": "534b347f-5f8d-4c88-870f-cb281c88383a"
      },
      "id": "6s2Fs1GY7Y8J",
      "execution_count": null,
      "outputs": [
        {
          "output_type": "execute_result",
          "data": {
            "text/plain": [
              "          Open         High          Low        Volume      change  \\\n",
              "0  1596.920044  1723.349976  1596.920044  1.340320e+09  126.429932   \n",
              "1  1723.890015  1833.489990  1716.300049  1.167920e+09  117.189941   \n",
              "2  1756.520020  1788.439941  1719.099976  9.157230e+08   69.339965   \n",
              "3  1780.369995  1873.930054  1755.349976  7.994900e+08  118.580078   \n",
              "4  1845.760010  1856.150024  1694.010010  7.409840e+08  162.140014   \n",
              "\n",
              "        Open-1  increase  \n",
              "0  1579.469971      True  \n",
              "1  1596.920044      True  \n",
              "2  1723.890015      True  \n",
              "3  1756.520020      True  \n",
              "4  1780.369995     False  "
            ],
            "text/html": [
              "\n",
              "  <div id=\"df-8172794f-f217-4f9a-aa0f-da1d4f3c1944\">\n",
              "    <div class=\"colab-df-container\">\n",
              "      <div>\n",
              "<style scoped>\n",
              "    .dataframe tbody tr th:only-of-type {\n",
              "        vertical-align: middle;\n",
              "    }\n",
              "\n",
              "    .dataframe tbody tr th {\n",
              "        vertical-align: top;\n",
              "    }\n",
              "\n",
              "    .dataframe thead th {\n",
              "        text-align: right;\n",
              "    }\n",
              "</style>\n",
              "<table border=\"1\" class=\"dataframe\">\n",
              "  <thead>\n",
              "    <tr style=\"text-align: right;\">\n",
              "      <th></th>\n",
              "      <th>Open</th>\n",
              "      <th>High</th>\n",
              "      <th>Low</th>\n",
              "      <th>Volume</th>\n",
              "      <th>change</th>\n",
              "      <th>Open-1</th>\n",
              "      <th>increase</th>\n",
              "    </tr>\n",
              "  </thead>\n",
              "  <tbody>\n",
              "    <tr>\n",
              "      <th>0</th>\n",
              "      <td>1596.920044</td>\n",
              "      <td>1723.349976</td>\n",
              "      <td>1596.920044</td>\n",
              "      <td>1.340320e+09</td>\n",
              "      <td>126.429932</td>\n",
              "      <td>1579.469971</td>\n",
              "      <td>True</td>\n",
              "    </tr>\n",
              "    <tr>\n",
              "      <th>1</th>\n",
              "      <td>1723.890015</td>\n",
              "      <td>1833.489990</td>\n",
              "      <td>1716.300049</td>\n",
              "      <td>1.167920e+09</td>\n",
              "      <td>117.189941</td>\n",
              "      <td>1596.920044</td>\n",
              "      <td>True</td>\n",
              "    </tr>\n",
              "    <tr>\n",
              "      <th>2</th>\n",
              "      <td>1756.520020</td>\n",
              "      <td>1788.439941</td>\n",
              "      <td>1719.099976</td>\n",
              "      <td>9.157230e+08</td>\n",
              "      <td>69.339965</td>\n",
              "      <td>1723.890015</td>\n",
              "      <td>True</td>\n",
              "    </tr>\n",
              "    <tr>\n",
              "      <th>3</th>\n",
              "      <td>1780.369995</td>\n",
              "      <td>1873.930054</td>\n",
              "      <td>1755.349976</td>\n",
              "      <td>7.994900e+08</td>\n",
              "      <td>118.580078</td>\n",
              "      <td>1756.520020</td>\n",
              "      <td>True</td>\n",
              "    </tr>\n",
              "    <tr>\n",
              "      <th>4</th>\n",
              "      <td>1845.760010</td>\n",
              "      <td>1856.150024</td>\n",
              "      <td>1694.010010</td>\n",
              "      <td>7.409840e+08</td>\n",
              "      <td>162.140014</td>\n",
              "      <td>1780.369995</td>\n",
              "      <td>False</td>\n",
              "    </tr>\n",
              "  </tbody>\n",
              "</table>\n",
              "</div>\n",
              "      <button class=\"colab-df-convert\" onclick=\"convertToInteractive('df-8172794f-f217-4f9a-aa0f-da1d4f3c1944')\"\n",
              "              title=\"Convert this dataframe to an interactive table.\"\n",
              "              style=\"display:none;\">\n",
              "        \n",
              "  <svg xmlns=\"http://www.w3.org/2000/svg\" height=\"24px\"viewBox=\"0 0 24 24\"\n",
              "       width=\"24px\">\n",
              "    <path d=\"M0 0h24v24H0V0z\" fill=\"none\"/>\n",
              "    <path d=\"M18.56 5.44l.94 2.06.94-2.06 2.06-.94-2.06-.94-.94-2.06-.94 2.06-2.06.94zm-11 1L8.5 8.5l.94-2.06 2.06-.94-2.06-.94L8.5 2.5l-.94 2.06-2.06.94zm10 10l.94 2.06.94-2.06 2.06-.94-2.06-.94-.94-2.06-.94 2.06-2.06.94z\"/><path d=\"M17.41 7.96l-1.37-1.37c-.4-.4-.92-.59-1.43-.59-.52 0-1.04.2-1.43.59L10.3 9.45l-7.72 7.72c-.78.78-.78 2.05 0 2.83L4 21.41c.39.39.9.59 1.41.59.51 0 1.02-.2 1.41-.59l7.78-7.78 2.81-2.81c.8-.78.8-2.07 0-2.86zM5.41 20L4 18.59l7.72-7.72 1.47 1.35L5.41 20z\"/>\n",
              "  </svg>\n",
              "      </button>\n",
              "      \n",
              "  <style>\n",
              "    .colab-df-container {\n",
              "      display:flex;\n",
              "      flex-wrap:wrap;\n",
              "      gap: 12px;\n",
              "    }\n",
              "\n",
              "    .colab-df-convert {\n",
              "      background-color: #E8F0FE;\n",
              "      border: none;\n",
              "      border-radius: 50%;\n",
              "      cursor: pointer;\n",
              "      display: none;\n",
              "      fill: #1967D2;\n",
              "      height: 32px;\n",
              "      padding: 0 0 0 0;\n",
              "      width: 32px;\n",
              "    }\n",
              "\n",
              "    .colab-df-convert:hover {\n",
              "      background-color: #E2EBFA;\n",
              "      box-shadow: 0px 1px 2px rgba(60, 64, 67, 0.3), 0px 1px 3px 1px rgba(60, 64, 67, 0.15);\n",
              "      fill: #174EA6;\n",
              "    }\n",
              "\n",
              "    [theme=dark] .colab-df-convert {\n",
              "      background-color: #3B4455;\n",
              "      fill: #D2E3FC;\n",
              "    }\n",
              "\n",
              "    [theme=dark] .colab-df-convert:hover {\n",
              "      background-color: #434B5C;\n",
              "      box-shadow: 0px 1px 3px 1px rgba(0, 0, 0, 0.15);\n",
              "      filter: drop-shadow(0px 1px 2px rgba(0, 0, 0, 0.3));\n",
              "      fill: #FFFFFF;\n",
              "    }\n",
              "  </style>\n",
              "\n",
              "      <script>\n",
              "        const buttonEl =\n",
              "          document.querySelector('#df-8172794f-f217-4f9a-aa0f-da1d4f3c1944 button.colab-df-convert');\n",
              "        buttonEl.style.display =\n",
              "          google.colab.kernel.accessAllowed ? 'block' : 'none';\n",
              "\n",
              "        async function convertToInteractive(key) {\n",
              "          const element = document.querySelector('#df-8172794f-f217-4f9a-aa0f-da1d4f3c1944');\n",
              "          const dataTable =\n",
              "            await google.colab.kernel.invokeFunction('convertToInteractive',\n",
              "                                                     [key], {});\n",
              "          if (!dataTable) return;\n",
              "\n",
              "          const docLinkHtml = 'Like what you see? Visit the ' +\n",
              "            '<a target=\"_blank\" href=https://colab.research.google.com/notebooks/data_table.ipynb>data table notebook</a>'\n",
              "            + ' to learn more about interactive tables.';\n",
              "          element.innerHTML = '';\n",
              "          dataTable['output_type'] = 'display_data';\n",
              "          await google.colab.output.renderOutput(dataTable, element);\n",
              "          const docLink = document.createElement('div');\n",
              "          docLink.innerHTML = docLinkHtml;\n",
              "          element.appendChild(docLink);\n",
              "        }\n",
              "      </script>\n",
              "    </div>\n",
              "  </div>\n",
              "  "
            ]
          },
          "metadata": {},
          "execution_count": 20
        }
      ]
    },
    {
      "cell_type": "code",
      "execution_count": null,
      "id": "96d2093d",
      "metadata": {
        "id": "96d2093d"
      },
      "outputs": [],
      "source": [
        "training_data = scaler.fit_transform(training_data)"
      ]
    },
    {
      "cell_type": "code",
      "execution_count": null,
      "id": "0cd1a0d3",
      "metadata": {
        "id": "0cd1a0d3"
      },
      "outputs": [],
      "source": [
        "X_train = [] \n",
        "Y_train = []"
      ]
    },
    {
      "cell_type": "code",
      "execution_count": null,
      "id": "8120c3f5",
      "metadata": {
        "colab": {
          "base_uri": "https://localhost:8080/"
        },
        "id": "8120c3f5",
        "outputId": "5df96a8d-d11e-4923-985e-4e5ba5d91158"
      },
      "outputs": [
        {
          "output_type": "execute_result",
          "data": {
            "text/plain": [
              "1789"
            ]
          },
          "metadata": {},
          "execution_count": 23
        }
      ],
      "source": [
        "training_data.shape[0]"
      ]
    },
    {
      "cell_type": "code",
      "execution_count": null,
      "id": "e7a8207d",
      "metadata": {
        "id": "e7a8207d"
      },
      "outputs": [],
      "source": [
        "for i in range(60, training_data.shape[0]):\n",
        "    X_train.append(training_data[i-60:i])\n",
        "    Y_train.append(training_data[i,0])"
      ]
    },
    {
      "cell_type": "code",
      "execution_count": null,
      "id": "471a1afa",
      "metadata": {
        "id": "471a1afa"
      },
      "outputs": [],
      "source": [
        "X_train, Y_train = np.array(X_train), np.array(Y_train)"
      ]
    },
    {
      "cell_type": "code",
      "execution_count": null,
      "id": "3e1385ba",
      "metadata": {
        "colab": {
          "base_uri": "https://localhost:8080/"
        },
        "id": "3e1385ba",
        "outputId": "061e2825-dc86-4aa7-f134-7e68b738714c"
      },
      "outputs": [
        {
          "output_type": "execute_result",
          "data": {
            "text/plain": [
              "(1729, 60, 7)"
            ]
          },
          "metadata": {},
          "execution_count": 26
        }
      ],
      "source": [
        "X_train.shape"
      ]
    },
    {
      "cell_type": "markdown",
      "source": [
        "## Model"
      ],
      "metadata": {
        "id": "DfDuxlm0IYut"
      },
      "id": "DfDuxlm0IYut"
    },
    {
      "cell_type": "code",
      "execution_count": null,
      "id": "2bc66d63",
      "metadata": {
        "id": "2bc66d63"
      },
      "outputs": [],
      "source": [
        "model = Sequential()\n",
        "model.add(LSTM(units = 50, activation = 'relu', return_sequences = True, input_shape = (X_train.shape[1], X_train.shape[2])))\n",
        "model.add(Dropout(0.2))\n",
        "model.add(LSTM(units = 60, activation = 'relu', return_sequences = True))\n",
        "model.add(Dropout(0.2))\n",
        "model.add(LSTM(units = 80, activation = 'relu', return_sequences = True))\n",
        "model.add(Dropout(0.2))\n",
        "model.add(LSTM(units = 120, activation = 'relu'))\n",
        "model.add(Dropout(0.2))\n",
        "model.add(Dense(units =1))"
      ]
    },
    {
      "cell_type": "code",
      "execution_count": null,
      "id": "fd07380b",
      "metadata": {
        "id": "fd07380b"
      },
      "outputs": [],
      "source": [
        "model.compile(optimizer = 'adam', \n",
        "              loss = 'mean_squared_error',\n",
        "              metrics=[tf.keras.metrics.RootMeanSquaredError(), tfa.metrics.RSquare()])"
      ]
    },
    {
      "cell_type": "code",
      "execution_count": null,
      "id": "ca549899",
      "metadata": {
        "colab": {
          "base_uri": "https://localhost:8080/"
        },
        "id": "ca549899",
        "outputId": "efbcc161-bedc-4f6a-f4fa-c5b76458c478"
      },
      "outputs": [
        {
          "output_type": "stream",
          "name": "stdout",
          "text": [
            "Model: \"sequential\"\n",
            "_________________________________________________________________\n",
            " Layer (type)                Output Shape              Param #   \n",
            "=================================================================\n",
            " lstm (LSTM)                 (None, 60, 50)            11600     \n",
            "                                                                 \n",
            " dropout (Dropout)           (None, 60, 50)            0         \n",
            "                                                                 \n",
            " lstm_1 (LSTM)               (None, 60, 60)            26640     \n",
            "                                                                 \n",
            " dropout_1 (Dropout)         (None, 60, 60)            0         \n",
            "                                                                 \n",
            " lstm_2 (LSTM)               (None, 60, 80)            45120     \n",
            "                                                                 \n",
            " dropout_2 (Dropout)         (None, 60, 80)            0         \n",
            "                                                                 \n",
            " lstm_3 (LSTM)               (None, 120)               96480     \n",
            "                                                                 \n",
            " dropout_3 (Dropout)         (None, 120)               0         \n",
            "                                                                 \n",
            " dense (Dense)               (None, 1)                 121       \n",
            "                                                                 \n",
            "=================================================================\n",
            "Total params: 179,961\n",
            "Trainable params: 179,961\n",
            "Non-trainable params: 0\n",
            "_________________________________________________________________\n"
          ]
        }
      ],
      "source": [
        "model.summary()"
      ]
    },
    {
      "cell_type": "code",
      "source": [
        "from tensorflow.keras.callbacks import EarlyStopping, ModelCheckpoint, TensorBoard"
      ],
      "metadata": {
        "id": "p-ViW5CVMO03"
      },
      "id": "p-ViW5CVMO03",
      "execution_count": null,
      "outputs": []
    },
    {
      "cell_type": "code",
      "execution_count": null,
      "id": "f5a5cd6e",
      "metadata": {
        "colab": {
          "base_uri": "https://localhost:8080/"
        },
        "id": "f5a5cd6e",
        "outputId": "8ba4e571-e503-4be1-f700-b18e2985bcf6"
      },
      "outputs": [
        {
          "output_type": "stream",
          "name": "stdout",
          "text": [
            "Epoch 1/20\n",
            "32/32 [==============================] - 16s 239ms/step - loss: 0.0224 - root_mean_squared_error: 0.1496 - r_square: 0.5629 - val_loss: 0.0112 - val_root_mean_squared_error: 0.1059 - val_r_square: 0.3961\n",
            "Epoch 2/20\n",
            "32/32 [==============================] - 10s 327ms/step - loss: 0.0036 - root_mean_squared_error: 0.0601 - r_square: 0.9295 - val_loss: 0.0056 - val_root_mean_squared_error: 0.0749 - val_r_square: 0.6977\n",
            "Epoch 3/20\n",
            "32/32 [==============================] - 9s 283ms/step - loss: 0.0028 - root_mean_squared_error: 0.0525 - r_square: 0.9462 - val_loss: 0.0119 - val_root_mean_squared_error: 0.1090 - val_r_square: 0.3604\n",
            "Epoch 4/20\n",
            "32/32 [==============================] - 6s 201ms/step - loss: 0.0030 - root_mean_squared_error: 0.0544 - r_square: 0.9421 - val_loss: 0.0098 - val_root_mean_squared_error: 0.0991 - val_r_square: 0.4711\n",
            "Epoch 5/20\n",
            "32/32 [==============================] - 6s 200ms/step - loss: 0.0028 - root_mean_squared_error: 0.0530 - r_square: 0.9451 - val_loss: 0.0044 - val_root_mean_squared_error: 0.0661 - val_r_square: 0.7647\n",
            "Epoch 6/20\n",
            "32/32 [==============================] - 6s 201ms/step - loss: 0.0027 - root_mean_squared_error: 0.0515 - r_square: 0.9481 - val_loss: 0.0042 - val_root_mean_squared_error: 0.0649 - val_r_square: 0.7734\n",
            "Epoch 7/20\n",
            "32/32 [==============================] - 6s 199ms/step - loss: 0.0022 - root_mean_squared_error: 0.0469 - r_square: 0.9570 - val_loss: 0.0168 - val_root_mean_squared_error: 0.1296 - val_r_square: 0.0953\n",
            "Epoch 8/20\n",
            "32/32 [==============================] - 6s 200ms/step - loss: 0.0029 - root_mean_squared_error: 0.0543 - r_square: 0.9425 - val_loss: 0.0185 - val_root_mean_squared_error: 0.1361 - val_r_square: 0.0023\n",
            "Epoch 9/20\n",
            "32/32 [==============================] - 6s 200ms/step - loss: 0.0025 - root_mean_squared_error: 0.0501 - r_square: 0.9509 - val_loss: 0.0039 - val_root_mean_squared_error: 0.0628 - val_r_square: 0.7876\n",
            "Epoch 10/20\n",
            "32/32 [==============================] - 6s 201ms/step - loss: 0.0023 - root_mean_squared_error: 0.0483 - r_square: 0.9544 - val_loss: 0.0055 - val_root_mean_squared_error: 0.0740 - val_r_square: 0.7055\n",
            "Epoch 11/20\n",
            "32/32 [==============================] - 6s 199ms/step - loss: 0.0022 - root_mean_squared_error: 0.0465 - r_square: 0.9577 - val_loss: 0.0062 - val_root_mean_squared_error: 0.0787 - val_r_square: 0.6669\n",
            "Epoch 12/20\n",
            "32/32 [==============================] - 6s 202ms/step - loss: 0.0019 - root_mean_squared_error: 0.0436 - r_square: 0.9628 - val_loss: 0.0034 - val_root_mean_squared_error: 0.0583 - val_r_square: 0.8169\n",
            "Epoch 13/20\n",
            "32/32 [==============================] - 6s 201ms/step - loss: 0.0023 - root_mean_squared_error: 0.0477 - r_square: 0.9556 - val_loss: 0.0112 - val_root_mean_squared_error: 0.1059 - val_r_square: 0.3967\n",
            "Epoch 14/20\n",
            "32/32 [==============================] - 7s 219ms/step - loss: 0.0018 - root_mean_squared_error: 0.0423 - r_square: 0.9650 - val_loss: 0.0032 - val_root_mean_squared_error: 0.0565 - val_r_square: 0.8282\n",
            "Epoch 15/20\n",
            "32/32 [==============================] - 6s 199ms/step - loss: 0.0015 - root_mean_squared_error: 0.0385 - r_square: 0.9711 - val_loss: 0.0028 - val_root_mean_squared_error: 0.0526 - val_r_square: 0.8513\n",
            "Epoch 16/20\n",
            "32/32 [==============================] - 7s 208ms/step - loss: 0.0018 - root_mean_squared_error: 0.0423 - r_square: 0.9651 - val_loss: 0.0035 - val_root_mean_squared_error: 0.0589 - val_r_square: 0.8130\n",
            "Epoch 17/20\n",
            "32/32 [==============================] - 10s 326ms/step - loss: 0.0015 - root_mean_squared_error: 0.0386 - r_square: 0.9709 - val_loss: 0.0084 - val_root_mean_squared_error: 0.0918 - val_r_square: 0.5459\n",
            "Epoch 18/20\n",
            "32/32 [==============================] - 6s 203ms/step - loss: 0.0022 - root_mean_squared_error: 0.0464 - r_square: 0.9579 - val_loss: 0.0042 - val_root_mean_squared_error: 0.0651 - val_r_square: 0.7719\n",
            "CPU times: user 3min 19s, sys: 11.4 s, total: 3min 30s\n",
            "Wall time: 2min 16s\n"
          ]
        }
      ],
      "source": [
        "%%time \n",
        "early_stopping_monitor = EarlyStopping(patience=3)\n",
        "\n",
        "history= model.fit(X_train, Y_train, epochs = 20, batch_size =50, validation_split=0.1, callbacks=early_stopping_monitor)"
      ]
    },
    {
      "cell_type": "code",
      "execution_count": null,
      "id": "1b2180e9",
      "metadata": {
        "colab": {
          "base_uri": "https://localhost:8080/",
          "height": 280
        },
        "id": "1b2180e9",
        "outputId": "ce4d8516-db27-4cb5-fad8-efb3840fb82a"
      },
      "outputs": [
        {
          "output_type": "display_data",
          "data": {
            "text/plain": [
              "<Figure size 432x288 with 1 Axes>"
            ],
            "image/png": "[encoded data removed]"
          },
          "metadata": {
            "needs_background": "light"
          }
        }
      ],
      "source": [
        "loss = history.history['loss']\n",
        "val_loss = history.history['val_loss']\n",
        "epochs = range(len(loss))\n",
        "plt.figure()\n",
        "plt.plot(epochs, loss, 'b', label='Training loss')\n",
        "plt.plot(epochs, val_loss, 'r', label='Validation loss')\n",
        "plt.title(\"Training and Validation Loss\")\n",
        "plt.legend()\n",
        "plt.show()"
      ]
    },
    {
      "cell_type": "markdown",
      "source": [
        "## Predictions on test data"
      ],
      "metadata": {
        "id": "jPhmlbyeIeJm"
      },
      "id": "jPhmlbyeIeJm"
    },
    {
      "cell_type": "code",
      "execution_count": null,
      "id": "41cd5f4b",
      "metadata": {
        "colab": {
          "base_uri": "https://localhost:8080/",
          "height": 201
        },
        "id": "41cd5f4b",
        "outputId": "f86a8d2f-dac6-4453-969f-dbe2fcf7adf9"
      },
      "outputs": [
        {
          "output_type": "execute_result",
          "data": {
            "text/plain": [
              "          Open         High          Low        Volume      change  \\\n",
              "0  37920.28125  38647.26172  36733.57422  2.073473e+10  1913.68750   \n",
              "1  38481.76563  39115.13281  38113.66406  2.028850e+10  1001.46875   \n",
              "2  38743.71484  38834.61719  36832.73047  1.915519e+10  2001.88672   \n",
              "3  36944.80469  37154.60156  36375.53906  1.859153e+10   779.06250   \n",
              "4  37149.26563  41527.78516  37093.62891  2.941221e+10  4434.15625   \n",
              "\n",
              "        Open-1  increase  \n",
              "0  38151.91797      True  \n",
              "1  37920.28125      True  \n",
              "2  38481.76563     False  \n",
              "3  38743.71484      True  \n",
              "4  36944.80469      True  "
            ],
            "text/html": [
              "\n",
              "  <div id=\"df-433000c5-c1ca-48a3-9bcc-4014e02723ea\">\n",
              "    <div class=\"colab-df-container\">\n",
              "      <div>\n",
              "<style scoped>\n",
              "    .dataframe tbody tr th:only-of-type {\n",
              "        vertical-align: middle;\n",
              "    }\n",
              "\n",
              "    .dataframe tbody tr th {\n",
              "        vertical-align: top;\n",
              "    }\n",
              "\n",
              "    .dataframe thead th {\n",
              "        text-align: right;\n",
              "    }\n",
              "</style>\n",
              "<table border=\"1\" class=\"dataframe\">\n",
              "  <thead>\n",
              "    <tr style=\"text-align: right;\">\n",
              "      <th></th>\n",
              "      <th>Open</th>\n",
              "      <th>High</th>\n",
              "      <th>Low</th>\n",
              "      <th>Volume</th>\n",
              "      <th>change</th>\n",
              "      <th>Open-1</th>\n",
              "      <th>increase</th>\n",
              "    </tr>\n",
              "  </thead>\n",
              "  <tbody>\n",
              "    <tr>\n",
              "      <th>0</th>\n",
              "      <td>37920.28125</td>\n",
              "      <td>38647.26172</td>\n",
              "      <td>36733.57422</td>\n",
              "      <td>2.073473e+10</td>\n",
              "      <td>1913.68750</td>\n",
              "      <td>38151.91797</td>\n",
              "      <td>True</td>\n",
              "    </tr>\n",
              "    <tr>\n",
              "      <th>1</th>\n",
              "      <td>38481.76563</td>\n",
              "      <td>39115.13281</td>\n",
              "      <td>38113.66406</td>\n",
              "      <td>2.028850e+10</td>\n",
              "      <td>1001.46875</td>\n",
              "      <td>37920.28125</td>\n",
              "      <td>True</td>\n",
              "    </tr>\n",
              "    <tr>\n",
              "      <th>2</th>\n",
              "      <td>38743.71484</td>\n",
              "      <td>38834.61719</td>\n",
              "      <td>36832.73047</td>\n",
              "      <td>1.915519e+10</td>\n",
              "      <td>2001.88672</td>\n",
              "      <td>38481.76563</td>\n",
              "      <td>False</td>\n",
              "    </tr>\n",
              "    <tr>\n",
              "      <th>3</th>\n",
              "      <td>36944.80469</td>\n",
              "      <td>37154.60156</td>\n",
              "      <td>36375.53906</td>\n",
              "      <td>1.859153e+10</td>\n",
              "      <td>779.06250</td>\n",
              "      <td>38743.71484</td>\n",
              "      <td>True</td>\n",
              "    </tr>\n",
              "    <tr>\n",
              "      <th>4</th>\n",
              "      <td>37149.26563</td>\n",
              "      <td>41527.78516</td>\n",
              "      <td>37093.62891</td>\n",
              "      <td>2.941221e+10</td>\n",
              "      <td>4434.15625</td>\n",
              "      <td>36944.80469</td>\n",
              "      <td>True</td>\n",
              "    </tr>\n",
              "  </tbody>\n",
              "</table>\n",
              "</div>\n",
              "      <button class=\"colab-df-convert\" onclick=\"convertToInteractive('df-433000c5-c1ca-48a3-9bcc-4014e02723ea')\"\n",
              "              title=\"Convert this dataframe to an interactive table.\"\n",
              "              style=\"display:none;\">\n",
              "        \n",
              "  <svg xmlns=\"http://www.w3.org/2000/svg\" height=\"24px\"viewBox=\"0 0 24 24\"\n",
              "       width=\"24px\">\n",
              "    <path d=\"M0 0h24v24H0V0z\" fill=\"none\"/>\n",
              "    <path d=\"M18.56 5.44l.94 2.06.94-2.06 2.06-.94-2.06-.94-.94-2.06-.94 2.06-2.06.94zm-11 1L8.5 8.5l.94-2.06 2.06-.94-2.06-.94L8.5 2.5l-.94 2.06-2.06.94zm10 10l.94 2.06.94-2.06 2.06-.94-2.06-.94-.94-2.06-.94 2.06-2.06.94z\"/><path d=\"M17.41 7.96l-1.37-1.37c-.4-.4-.92-.59-1.43-.59-.52 0-1.04.2-1.43.59L10.3 9.45l-7.72 7.72c-.78.78-.78 2.05 0 2.83L4 21.41c.39.39.9.59 1.41.59.51 0 1.02-.2 1.41-.59l7.78-7.78 2.81-2.81c.8-.78.8-2.07 0-2.86zM5.41 20L4 18.59l7.72-7.72 1.47 1.35L5.41 20z\"/>\n",
              "  </svg>\n",
              "      </button>\n",
              "      \n",
              "  <style>\n",
              "    .colab-df-container {\n",
              "      display:flex;\n",
              "      flex-wrap:wrap;\n",
              "      gap: 12px;\n",
              "    }\n",
              "\n",
              "    .colab-df-convert {\n",
              "      background-color: #E8F0FE;\n",
              "      border: none;\n",
              "      border-radius: 50%;\n",
              "      cursor: pointer;\n",
              "      display: none;\n",
              "      fill: #1967D2;\n",
              "      height: 32px;\n",
              "      padding: 0 0 0 0;\n",
              "      width: 32px;\n",
              "    }\n",
              "\n",
              "    .colab-df-convert:hover {\n",
              "      background-color: #E2EBFA;\n",
              "      box-shadow: 0px 1px 2px rgba(60, 64, 67, 0.3), 0px 1px 3px 1px rgba(60, 64, 67, 0.15);\n",
              "      fill: #174EA6;\n",
              "    }\n",
              "\n",
              "    [theme=dark] .colab-df-convert {\n",
              "      background-color: #3B4455;\n",
              "      fill: #D2E3FC;\n",
              "    }\n",
              "\n",
              "    [theme=dark] .colab-df-convert:hover {\n",
              "      background-color: #434B5C;\n",
              "      box-shadow: 0px 1px 3px 1px rgba(0, 0, 0, 0.15);\n",
              "      filter: drop-shadow(0px 1px 2px rgba(0, 0, 0, 0.3));\n",
              "      fill: #FFFFFF;\n",
              "    }\n",
              "  </style>\n",
              "\n",
              "      <script>\n",
              "        const buttonEl =\n",
              "          document.querySelector('#df-433000c5-c1ca-48a3-9bcc-4014e02723ea button.colab-df-convert');\n",
              "        buttonEl.style.display =\n",
              "          google.colab.kernel.accessAllowed ? 'block' : 'none';\n",
              "\n",
              "        async function convertToInteractive(key) {\n",
              "          const element = document.querySelector('#df-433000c5-c1ca-48a3-9bcc-4014e02723ea');\n",
              "          const dataTable =\n",
              "            await google.colab.kernel.invokeFunction('convertToInteractive',\n",
              "                                                     [key], {});\n",
              "          if (!dataTable) return;\n",
              "\n",
              "          const docLinkHtml = 'Like what you see? Visit the ' +\n",
              "            '<a target=\"_blank\" href=https://colab.research.google.com/notebooks/data_table.ipynb>data table notebook</a>'\n",
              "            + ' to learn more about interactive tables.';\n",
              "          element.innerHTML = '';\n",
              "          dataTable['output_type'] = 'display_data';\n",
              "          await google.colab.output.renderOutput(dataTable, element);\n",
              "          const docLink = document.createElement('div');\n",
              "          docLink.innerHTML = docLinkHtml;\n",
              "          element.appendChild(docLink);\n",
              "        }\n",
              "      </script>\n",
              "    </div>\n",
              "  </div>\n",
              "  "
            ]
          },
          "metadata": {},
          "execution_count": 34
        }
      ],
      "source": [
        "part_60_days = data_training.tail(60)\n",
        "df_test= part_60_days.append(data_test, ignore_index = True)\n",
        "df_test= df_test.drop(['Date', 'index', 'Close', 'Currency'], axis = 1)\n",
        "df_test.head()"
      ]
    },
    {
      "cell_type": "code",
      "execution_count": null,
      "id": "c11bb69f",
      "metadata": {
        "id": "c11bb69f"
      },
      "outputs": [],
      "source": [
        "inputs = scaler.transform(df_test)"
      ]
    },
    {
      "cell_type": "code",
      "execution_count": null,
      "id": "cb2b3434",
      "metadata": {
        "id": "cb2b3434"
      },
      "outputs": [],
      "source": [
        "X_test = []\n",
        "Y_test = []"
      ]
    },
    {
      "cell_type": "code",
      "execution_count": null,
      "id": "4b6ccaba",
      "metadata": {
        "id": "4b6ccaba"
      },
      "outputs": [],
      "source": [
        "for i in range (60, inputs.shape[0]):\n",
        "    X_test.append(inputs[i-60:i]) \n",
        "    Y_test.append(inputs[i, 0])"
      ]
    },
    {
      "cell_type": "code",
      "execution_count": null,
      "id": "7afdb98c",
      "metadata": {
        "colab": {
          "base_uri": "https://localhost:8080/"
        },
        "id": "7afdb98c",
        "outputId": "dc189b9e-355f-44df-f1b8-8af1150b130d"
      },
      "outputs": [
        {
          "output_type": "execute_result",
          "data": {
            "text/plain": [
              "((30, 60, 7), (30,))"
            ]
          },
          "metadata": {},
          "execution_count": 38
        }
      ],
      "source": [
        "X_test, Y_test = np.array(X_test), np.array(Y_test)\n",
        "X_test.shape, Y_test.shape"
      ]
    },
    {
      "cell_type": "code",
      "execution_count": null,
      "id": "bcdc2d49",
      "metadata": {
        "colab": {
          "base_uri": "https://localhost:8080/"
        },
        "id": "bcdc2d49",
        "outputId": "7e016cee-245a-4078-f335-3decd281f983"
      },
      "outputs": [
        {
          "output_type": "execute_result",
          "data": {
            "text/plain": [
              "(array([[0.6766064 ],\n",
              "        [0.6828208 ],\n",
              "        [0.68526137],\n",
              "        [0.6865562 ],\n",
              "        [0.68821985],\n",
              "        [0.68824613],\n",
              "        [0.68559617],\n",
              "        [0.6823629 ],\n",
              "        [0.6771374 ],\n",
              "        [0.6719527 ],\n",
              "        [0.66543794],\n",
              "        [0.6569471 ],\n",
              "        [0.64859915],\n",
              "        [0.64177   ],\n",
              "        [0.63478166],\n",
              "        [0.62905097],\n",
              "        [0.6229847 ],\n",
              "        [0.6158293 ],\n",
              "        [0.60956025],\n",
              "        [0.6054437 ],\n",
              "        [0.60185003],\n",
              "        [0.5977011 ],\n",
              "        [0.59231853],\n",
              "        [0.5855124 ],\n",
              "        [0.57742786],\n",
              "        [0.5705174 ],\n",
              "        [0.56397337],\n",
              "        [0.55944574],\n",
              "        [0.5578768 ],\n",
              "        [0.5573008 ]], dtype=float32),\n",
              " array([0.66649535, 0.67758412, 0.67111933, 0.68000667, 0.68272428,\n",
              "        0.66634663, 0.6309144 , 0.63542727, 0.61688282, 0.62444901,\n",
              "        0.61565408, 0.57521116, 0.58415476, 0.59987279, 0.58136234,\n",
              "        0.59065556, 0.58861563, 0.57805392, 0.59483824, 0.60505115,\n",
              "        0.60307655, 0.59025447, 0.57831956, 0.57437208, 0.5742846 ,\n",
              "        0.58908027, 0.55378047, 0.57077943, 0.57877283, 0.56114269]))"
            ]
          },
          "metadata": {},
          "execution_count": 39
        }
      ],
      "source": [
        "Y_pred = model.predict(X_test)\n",
        "Y_pred, Y_test"
      ]
    },
    {
      "cell_type": "code",
      "source": [
        "scale = 1/scaler.scale_[0]\n",
        "scale\n",
        "\n",
        "Y_pred = Y_pred * scale\n",
        "Y_test = Y_test * scale"
      ],
      "metadata": {
        "id": "R-6h-WXsDXPt"
      },
      "id": "R-6h-WXsDXPt",
      "execution_count": null,
      "outputs": []
    },
    {
      "cell_type": "code",
      "source": [
        "from sklearn.metrics import mean_squared_error, r2_score\n",
        "import numpy as np\n",
        "\n",
        "rmse = mean_squared_error(Y_test, Y_pred, squared=False)\n",
        "r2 = r2_score(Y_test, Y_pred)\n",
        "\n",
        "rmse, r2"
      ],
      "metadata": {
        "colab": {
          "base_uri": "https://localhost:8080/"
        },
        "id": "En9o-4sHXbqk",
        "outputId": "c99c00be-5bfe-4f31-85c0-8a4082d8eccd"
      },
      "id": "En9o-4sHXbqk",
      "execution_count": null,
      "outputs": [
        {
          "output_type": "execute_result",
          "data": {
            "text/plain": [
              "(2271.8936617688764, 0.18166904717091303)"
            ]
          },
          "metadata": {},
          "execution_count": 42
        }
      ]
    },
    {
      "cell_type": "code",
      "source": [
        "def calculate_smape(actual, predicted) -> float:\n",
        "  \n",
        "    # Convert actual and predicted to numpy\n",
        "    # array data type if not already\n",
        "    if not all([isinstance(actual, np.ndarray), \n",
        "                isinstance(predicted, np.ndarray)]):\n",
        "        actual, predicted = np.array(actual),\n",
        "        np.array(predicted)\n",
        "  \n",
        "    return round(\n",
        "        np.mean(\n",
        "            np.abs(predicted - actual) / \n",
        "            ((np.abs(predicted) + np.abs(actual))/2)\n",
        "        )*100, 2\n",
        "    )\n",
        "\n",
        "calculate_smape(Y_test, Y_pred)"
      ],
      "metadata": {
        "colab": {
          "base_uri": "https://localhost:8080/"
        },
        "id": "2aUKuCMdaEV8",
        "outputId": "0c52d642-5c1b-4429-a7d4-c1a36fc45c4a"
      },
      "id": "2aUKuCMdaEV8",
      "execution_count": null,
      "outputs": [
        {
          "output_type": "execute_result",
          "data": {
            "text/plain": [
              "8.4"
            ]
          },
          "metadata": {},
          "execution_count": 43
        }
      ]
    },
    {
      "cell_type": "code",
      "execution_count": null,
      "id": "dceef612",
      "metadata": {
        "colab": {
          "base_uri": "https://localhost:8080/",
          "height": 349
        },
        "id": "dceef612",
        "outputId": "b8111cb6-2263-4a3d-c665-eba736fcfc31"
      },
      "outputs": [
        {
          "output_type": "display_data",
          "data": {
            "text/plain": [
              "<Figure size 1008x360 with 1 Axes>"
            ],
            "image/png": "[encoded data removed]"
          },
          "metadata": {
            "needs_background": "light"
          }
        }
      ],
      "source": [
        "plt.figure(figsize=(14,5))\n",
        "plt.plot(Y_test, color = 'red', label = 'Real Bitcoin Price')\n",
        "plt.plot(Y_pred, color = 'green', label = 'Predicted Bitcoin Price')\n",
        "plt.title('Bitcoin Price Prediction using RNN-LSTM')\n",
        "plt.xlabel('Time')\n",
        "plt.ylabel('Price')\n",
        "plt.legend()\n",
        "plt.show()"
      ]
    }
  ],
  "metadata": {
    "kernelspec": {
      "display_name": "Python 3",
      "language": "python",
      "name": "python3"
    },
    "language_info": {
      "codemirror_mode": {
        "name": "ipython",
        "version": 3
      },
      "file_extension": ".py",
      "mimetype": "text/x-python",
      "name": "python",
      "nbconvert_exporter": "python",
      "pygments_lexer": "ipython3",
      "version": "3.8.8"
    },
    "colab": {
      "name": "LSTM for Bitcoin.ipynb",
      "provenance": [],
      "collapsed_sections": []
    }
  },
  "nbformat": 4,
  "nbformat_minor": 5
}